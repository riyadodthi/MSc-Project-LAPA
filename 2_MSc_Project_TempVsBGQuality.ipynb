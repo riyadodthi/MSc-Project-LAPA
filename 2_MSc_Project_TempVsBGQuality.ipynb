{
  "nbformat": 4,
  "nbformat_minor": 0,
  "metadata": {
    "colab": {
      "provenance": [],
      "mount_file_id": "1HPkNf4MO00-Zg3naiEao01nx1NBHqxLN",
      "authorship_tag": "ABX9TyPRvtbwo+G2C/OooTk5YiPD",
      "include_colab_link": true
    },
    "kernelspec": {
      "name": "python3",
      "display_name": "Python 3"
    },
    "language_info": {
      "name": "python"
    }
  },
  "cells": [
    {
      "cell_type": "markdown",
      "metadata": {
        "id": "view-in-github",
        "colab_type": "text"
      },
      "source": [
        "<a href=\"https://colab.research.google.com/github/riyadodthi/MSc-Project-LAPA/blob/main/2_MSc_Project_TempVsBGQuality.ipynb\" target=\"_parent\"><img src=\"https://colab.research.google.com/assets/colab-badge.svg\" alt=\"Open In Colab\"/></a>"
      ]
    },
    {
      "cell_type": "code",
      "execution_count": 143,
      "metadata": {
        "id": "63hXfimmVkjJ"
      },
      "outputs": [],
      "source": [
        "import pandas as pd\n",
        "import numpy as np\n",
        "from sklearn.preprocessing import StandardScaler\n",
        "from sklearn.model_selection import train_test_split\n",
        "from sklearn.preprocessing import PolynomialFeatures\n",
        "\n",
        "\n",
        "import warnings\n",
        "warnings.filterwarnings(\"ignore\")"
      ]
    },
    {
      "cell_type": "code",
      "source": [
        "# Load Data -  Weather and air quality for each day\n",
        "weather_df = pd.read_csv(\"/content/drive/MyDrive/Exam/london_weather.csv\")\n",
        "quality_df = pd.read_csv(\"/content/drive/MyDrive/Exam/air-quality-london-time-of-day.csv\")\n",
        "\n",
        "#display(weather_df)\n",
        "#quality_df.head(2)\n"
      ],
      "metadata": {
        "id": "QzqP86ZUVwQ-"
      },
      "execution_count": 144,
      "outputs": []
    },
    {
      "cell_type": "code",
      "source": [
        "# Data Cleaning\n",
        "# Quality\n",
        "df_qdate = quality_df.drop(columns='GMT') # drop time\n",
        "df_qdate.fillna(0,inplace=True)  # fill NA\n",
        "df_qdate['Month']=pd.to_datetime(df_qdate['Month'],yearfirst=True) # convert month col to date format\n",
        "\n",
        "# Weather\n",
        "df_w = weather_df\n",
        "df_w.fillna(0,inplace=True)\n",
        "#df_qdate"
      ],
      "metadata": {
        "id": "OAmXR3SHVw60"
      },
      "execution_count": 145,
      "outputs": []
    },
    {
      "cell_type": "code",
      "source": [
        "# Mean quality for each month\n",
        "df_qdate_gr = df_qdate.set_index('Month')\n",
        "df_qdate_gr = df_qdate_gr.groupby(pd.Grouper(freq='D'))\n",
        "df_qdate_mean = df_qdate_gr.mean()\n",
        "\n",
        "df_qdate_mean.dropna(inplace=True)\n",
        "#df_qdate_mean"
      ],
      "metadata": {
        "id": "HUoHfuDGV5LW"
      },
      "execution_count": 146,
      "outputs": []
    },
    {
      "cell_type": "code",
      "source": [
        "# Fix date format issue (from yyyy-dd-mm to yyyy-mm-dd)\n",
        "date_month = pd.date_range(start='2008-01-01', end='2019-07-01', freq='MS') # genrate new date col for each month\n",
        "df_qdate_mean['date'] = date_month\n",
        "df_qdate_mean.set_index('date',inplace=True)\n",
        "#df_qdate_mean"
      ],
      "metadata": {
        "id": "1ECgUwkfV5q3"
      },
      "execution_count": 147,
      "outputs": []
    },
    {
      "cell_type": "code",
      "source": [
        "# Fix date format issue\n",
        "date_range = pd.date_range(start='1979-01-01', end='2020-12-31', freq='D')\n",
        "weather_df['date2'] = date_range\n",
        "\n",
        "weather_df_new = weather_df.drop(columns='date')\n",
        "\n",
        "# mean of weather\n",
        "weather_df_new.set_index('date2',inplace=True)\n",
        "df_wdate_gr = weather_df_new.groupby(pd.Grouper(freq='M'))\n",
        "df_wdate_mean = df_wdate_gr.mean()\n",
        "\n",
        "date_range_month = pd.date_range(start='1979-01-01', end='2020-12-01', freq='MS')\n",
        "print(date_range_month.size)\n",
        "df_wdate_mean['date'] = date_range_month\n",
        "df_wdate_mean.set_index('date',inplace=True)\n",
        "\n",
        "\n",
        "#display(df_wdate_mean)\n",
        "\n"
      ],
      "metadata": {
        "colab": {
          "base_uri": "https://localhost:8080/"
        },
        "id": "bLSTgatMV-ob",
        "outputId": "400e7726-a0ec-4bb5-818d-c83f5e94e2a7"
      },
      "execution_count": 148,
      "outputs": [
        {
          "output_type": "stream",
          "name": "stdout",
          "text": [
            "504\n"
          ]
        }
      ]
    },
    {
      "cell_type": "code",
      "source": [
        "# merge both ds based on date\n",
        "df_merge = pd.merge(df_qdate_mean, df_wdate_mean, left_index=True, right_index=True)\n",
        "df_merge.reset_index(inplace=True)\n",
        "\n",
        "# Add columns for total roadside pollution and background pollution\n",
        "\n",
        "df_merge['Total Roadside'] = df_merge.iloc[:,1:8].sum(axis=1)\n",
        "df_merge['Total Background'] = df_merge.iloc[:,8:14].sum(axis=1)\n",
        "df_merge.head(5)"
      ],
      "metadata": {
        "colab": {
          "base_uri": "https://localhost:8080/",
          "height": 438
        },
        "id": "NfoGNgbFWClq",
        "outputId": "2dd0cf67-8ca9-4669-d689-8d9264ff1e9a"
      },
      "execution_count": 149,
      "outputs": [
        {
          "output_type": "execute_result",
          "data": {
            "text/plain": [
              "        date  London Mean Roadside:Nitric Oxide (ug/m3)  \\\n",
              "0 2008-01-01                                        0.0   \n",
              "1 2008-02-01                                        0.0   \n",
              "2 2008-03-01                                        0.0   \n",
              "3 2008-04-01                                        0.0   \n",
              "4 2008-05-01                                        0.0   \n",
              "\n",
              "   London Mean Roadside:Nitrogen Dioxide (ug/m3)  \\\n",
              "0                                      55.512500   \n",
              "1                                      75.925000   \n",
              "2                                      55.600000   \n",
              "3                                      61.758333   \n",
              "4                                      62.912500   \n",
              "\n",
              "   London Mean Roadside:Oxides of Nitrogen (ug/m3)  \\\n",
              "0                                              0.0   \n",
              "1                                              0.0   \n",
              "2                                              0.0   \n",
              "3                                              0.0   \n",
              "4                                              0.0   \n",
              "\n",
              "   London Mean Roadside:Ozone (ug/m3)  \\\n",
              "0                           29.512500   \n",
              "1                           20.316667   \n",
              "2                           40.112500   \n",
              "3                           37.879167   \n",
              "4                           46.270833   \n",
              "\n",
              "   London Mean Roadside:PM10 Particulate (ug/m3)  \\\n",
              "0                                      24.970833   \n",
              "1                                      39.487500   \n",
              "2                                      21.570833   \n",
              "3                                      28.750000   \n",
              "4                                      34.620833   \n",
              "\n",
              "   London Mean Roadside:PM2.5 Particulate (ug/m3)  \\\n",
              "0                                       14.675000   \n",
              "1                                       28.775000   \n",
              "2                                       12.308333   \n",
              "3                                       20.454167   \n",
              "4                                       27.500000   \n",
              "\n",
              "   London Mean Roadside:Sulphur Dioxide (ug/m3)  \\\n",
              "0                                      4.216667   \n",
              "1                                      7.554167   \n",
              "2                                      3.870833   \n",
              "3                                      4.475000   \n",
              "4                                      4.629167   \n",
              "\n",
              "   London Mean Background:Nitric Oxide (ug/m3)  \\\n",
              "0                                          0.0   \n",
              "1                                          0.0   \n",
              "2                                          0.0   \n",
              "3                                          0.0   \n",
              "4                                          0.0   \n",
              "\n",
              "   London Mean Background:Nitrogen Dioxide (ug/m3)  ...  sunshine  \\\n",
              "0                                        42.345833  ...  1.941935   \n",
              "1                                        60.241667  ...  4.482759   \n",
              "2                                        39.800000  ...  2.764516   \n",
              "3                                        44.004167  ...  4.676667   \n",
              "4                                        44.133333  ...  5.245161   \n",
              "\n",
              "   global_radiation   max_temp  mean_temp   min_temp  precipitation  \\\n",
              "0         30.419355  10.412903   7.390323   4.709677       2.225806   \n",
              "1         67.137931  10.989655   6.500000   2.031034       0.531034   \n",
              "2         91.225806  10.587097   6.845161   3.719355       2.251613   \n",
              "3        151.800000  13.660000   9.056667   5.190000       2.113333   \n",
              "4        182.225806  19.751613  14.641935  10.454839       2.070968   \n",
              "\n",
              "        pressure  snow_depth  Total Roadside  Total Background  \n",
              "0  101234.516129    0.000000      128.887500        101.679167  \n",
              "1  102306.551724    0.000000      172.058333        125.275000  \n",
              "2  100653.870968    0.000000      133.462500        107.783333  \n",
              "3  101034.333333    0.133333      153.316667        119.104167  \n",
              "4  101490.322581    0.000000      175.933333        138.445833  \n",
              "\n",
              "[5 rows x 25 columns]"
            ],
            "text/html": [
              "\n",
              "\n",
              "  <div id=\"df-51e12f28-a6b0-455f-8c67-e229c402418a\">\n",
              "    <div class=\"colab-df-container\">\n",
              "      <div>\n",
              "<style scoped>\n",
              "    .dataframe tbody tr th:only-of-type {\n",
              "        vertical-align: middle;\n",
              "    }\n",
              "\n",
              "    .dataframe tbody tr th {\n",
              "        vertical-align: top;\n",
              "    }\n",
              "\n",
              "    .dataframe thead th {\n",
              "        text-align: right;\n",
              "    }\n",
              "</style>\n",
              "<table border=\"1\" class=\"dataframe\">\n",
              "  <thead>\n",
              "    <tr style=\"text-align: right;\">\n",
              "      <th></th>\n",
              "      <th>date</th>\n",
              "      <th>London Mean Roadside:Nitric Oxide (ug/m3)</th>\n",
              "      <th>London Mean Roadside:Nitrogen Dioxide (ug/m3)</th>\n",
              "      <th>London Mean Roadside:Oxides of Nitrogen (ug/m3)</th>\n",
              "      <th>London Mean Roadside:Ozone (ug/m3)</th>\n",
              "      <th>London Mean Roadside:PM10 Particulate (ug/m3)</th>\n",
              "      <th>London Mean Roadside:PM2.5 Particulate (ug/m3)</th>\n",
              "      <th>London Mean Roadside:Sulphur Dioxide (ug/m3)</th>\n",
              "      <th>London Mean Background:Nitric Oxide (ug/m3)</th>\n",
              "      <th>London Mean Background:Nitrogen Dioxide (ug/m3)</th>\n",
              "      <th>...</th>\n",
              "      <th>sunshine</th>\n",
              "      <th>global_radiation</th>\n",
              "      <th>max_temp</th>\n",
              "      <th>mean_temp</th>\n",
              "      <th>min_temp</th>\n",
              "      <th>precipitation</th>\n",
              "      <th>pressure</th>\n",
              "      <th>snow_depth</th>\n",
              "      <th>Total Roadside</th>\n",
              "      <th>Total Background</th>\n",
              "    </tr>\n",
              "  </thead>\n",
              "  <tbody>\n",
              "    <tr>\n",
              "      <th>0</th>\n",
              "      <td>2008-01-01</td>\n",
              "      <td>0.0</td>\n",
              "      <td>55.512500</td>\n",
              "      <td>0.0</td>\n",
              "      <td>29.512500</td>\n",
              "      <td>24.970833</td>\n",
              "      <td>14.675000</td>\n",
              "      <td>4.216667</td>\n",
              "      <td>0.0</td>\n",
              "      <td>42.345833</td>\n",
              "      <td>...</td>\n",
              "      <td>1.941935</td>\n",
              "      <td>30.419355</td>\n",
              "      <td>10.412903</td>\n",
              "      <td>7.390323</td>\n",
              "      <td>4.709677</td>\n",
              "      <td>2.225806</td>\n",
              "      <td>101234.516129</td>\n",
              "      <td>0.000000</td>\n",
              "      <td>128.887500</td>\n",
              "      <td>101.679167</td>\n",
              "    </tr>\n",
              "    <tr>\n",
              "      <th>1</th>\n",
              "      <td>2008-02-01</td>\n",
              "      <td>0.0</td>\n",
              "      <td>75.925000</td>\n",
              "      <td>0.0</td>\n",
              "      <td>20.316667</td>\n",
              "      <td>39.487500</td>\n",
              "      <td>28.775000</td>\n",
              "      <td>7.554167</td>\n",
              "      <td>0.0</td>\n",
              "      <td>60.241667</td>\n",
              "      <td>...</td>\n",
              "      <td>4.482759</td>\n",
              "      <td>67.137931</td>\n",
              "      <td>10.989655</td>\n",
              "      <td>6.500000</td>\n",
              "      <td>2.031034</td>\n",
              "      <td>0.531034</td>\n",
              "      <td>102306.551724</td>\n",
              "      <td>0.000000</td>\n",
              "      <td>172.058333</td>\n",
              "      <td>125.275000</td>\n",
              "    </tr>\n",
              "    <tr>\n",
              "      <th>2</th>\n",
              "      <td>2008-03-01</td>\n",
              "      <td>0.0</td>\n",
              "      <td>55.600000</td>\n",
              "      <td>0.0</td>\n",
              "      <td>40.112500</td>\n",
              "      <td>21.570833</td>\n",
              "      <td>12.308333</td>\n",
              "      <td>3.870833</td>\n",
              "      <td>0.0</td>\n",
              "      <td>39.800000</td>\n",
              "      <td>...</td>\n",
              "      <td>2.764516</td>\n",
              "      <td>91.225806</td>\n",
              "      <td>10.587097</td>\n",
              "      <td>6.845161</td>\n",
              "      <td>3.719355</td>\n",
              "      <td>2.251613</td>\n",
              "      <td>100653.870968</td>\n",
              "      <td>0.000000</td>\n",
              "      <td>133.462500</td>\n",
              "      <td>107.783333</td>\n",
              "    </tr>\n",
              "    <tr>\n",
              "      <th>3</th>\n",
              "      <td>2008-04-01</td>\n",
              "      <td>0.0</td>\n",
              "      <td>61.758333</td>\n",
              "      <td>0.0</td>\n",
              "      <td>37.879167</td>\n",
              "      <td>28.750000</td>\n",
              "      <td>20.454167</td>\n",
              "      <td>4.475000</td>\n",
              "      <td>0.0</td>\n",
              "      <td>44.004167</td>\n",
              "      <td>...</td>\n",
              "      <td>4.676667</td>\n",
              "      <td>151.800000</td>\n",
              "      <td>13.660000</td>\n",
              "      <td>9.056667</td>\n",
              "      <td>5.190000</td>\n",
              "      <td>2.113333</td>\n",
              "      <td>101034.333333</td>\n",
              "      <td>0.133333</td>\n",
              "      <td>153.316667</td>\n",
              "      <td>119.104167</td>\n",
              "    </tr>\n",
              "    <tr>\n",
              "      <th>4</th>\n",
              "      <td>2008-05-01</td>\n",
              "      <td>0.0</td>\n",
              "      <td>62.912500</td>\n",
              "      <td>0.0</td>\n",
              "      <td>46.270833</td>\n",
              "      <td>34.620833</td>\n",
              "      <td>27.500000</td>\n",
              "      <td>4.629167</td>\n",
              "      <td>0.0</td>\n",
              "      <td>44.133333</td>\n",
              "      <td>...</td>\n",
              "      <td>5.245161</td>\n",
              "      <td>182.225806</td>\n",
              "      <td>19.751613</td>\n",
              "      <td>14.641935</td>\n",
              "      <td>10.454839</td>\n",
              "      <td>2.070968</td>\n",
              "      <td>101490.322581</td>\n",
              "      <td>0.000000</td>\n",
              "      <td>175.933333</td>\n",
              "      <td>138.445833</td>\n",
              "    </tr>\n",
              "  </tbody>\n",
              "</table>\n",
              "<p>5 rows × 25 columns</p>\n",
              "</div>\n",
              "      <button class=\"colab-df-convert\" onclick=\"convertToInteractive('df-51e12f28-a6b0-455f-8c67-e229c402418a')\"\n",
              "              title=\"Convert this dataframe to an interactive table.\"\n",
              "              style=\"display:none;\">\n",
              "\n",
              "  <svg xmlns=\"http://www.w3.org/2000/svg\" height=\"24px\"viewBox=\"0 0 24 24\"\n",
              "       width=\"24px\">\n",
              "    <path d=\"M0 0h24v24H0V0z\" fill=\"none\"/>\n",
              "    <path d=\"M18.56 5.44l.94 2.06.94-2.06 2.06-.94-2.06-.94-.94-2.06-.94 2.06-2.06.94zm-11 1L8.5 8.5l.94-2.06 2.06-.94-2.06-.94L8.5 2.5l-.94 2.06-2.06.94zm10 10l.94 2.06.94-2.06 2.06-.94-2.06-.94-.94-2.06-.94 2.06-2.06.94z\"/><path d=\"M17.41 7.96l-1.37-1.37c-.4-.4-.92-.59-1.43-.59-.52 0-1.04.2-1.43.59L10.3 9.45l-7.72 7.72c-.78.78-.78 2.05 0 2.83L4 21.41c.39.39.9.59 1.41.59.51 0 1.02-.2 1.41-.59l7.78-7.78 2.81-2.81c.8-.78.8-2.07 0-2.86zM5.41 20L4 18.59l7.72-7.72 1.47 1.35L5.41 20z\"/>\n",
              "  </svg>\n",
              "      </button>\n",
              "\n",
              "\n",
              "\n",
              "    <div id=\"df-63e2814f-04fc-401e-ac3d-b97165663f27\">\n",
              "      <button class=\"colab-df-quickchart\" onclick=\"quickchart('df-63e2814f-04fc-401e-ac3d-b97165663f27')\"\n",
              "              title=\"Suggest charts.\"\n",
              "              style=\"display:none;\">\n",
              "\n",
              "<svg xmlns=\"http://www.w3.org/2000/svg\" height=\"24px\"viewBox=\"0 0 24 24\"\n",
              "     width=\"24px\">\n",
              "    <g>\n",
              "        <path d=\"M19 3H5c-1.1 0-2 .9-2 2v14c0 1.1.9 2 2 2h14c1.1 0 2-.9 2-2V5c0-1.1-.9-2-2-2zM9 17H7v-7h2v7zm4 0h-2V7h2v10zm4 0h-2v-4h2v4z\"/>\n",
              "    </g>\n",
              "</svg>\n",
              "      </button>\n",
              "    </div>\n",
              "\n",
              "<style>\n",
              "  .colab-df-quickchart {\n",
              "    background-color: #E8F0FE;\n",
              "    border: none;\n",
              "    border-radius: 50%;\n",
              "    cursor: pointer;\n",
              "    display: none;\n",
              "    fill: #1967D2;\n",
              "    height: 32px;\n",
              "    padding: 0 0 0 0;\n",
              "    width: 32px;\n",
              "  }\n",
              "\n",
              "  .colab-df-quickchart:hover {\n",
              "    background-color: #E2EBFA;\n",
              "    box-shadow: 0px 1px 2px rgba(60, 64, 67, 0.3), 0px 1px 3px 1px rgba(60, 64, 67, 0.15);\n",
              "    fill: #174EA6;\n",
              "  }\n",
              "\n",
              "  [theme=dark] .colab-df-quickchart {\n",
              "    background-color: #3B4455;\n",
              "    fill: #D2E3FC;\n",
              "  }\n",
              "\n",
              "  [theme=dark] .colab-df-quickchart:hover {\n",
              "    background-color: #434B5C;\n",
              "    box-shadow: 0px 1px 3px 1px rgba(0, 0, 0, 0.15);\n",
              "    filter: drop-shadow(0px 1px 2px rgba(0, 0, 0, 0.3));\n",
              "    fill: #FFFFFF;\n",
              "  }\n",
              "</style>\n",
              "\n",
              "    <script>\n",
              "      async function quickchart(key) {\n",
              "        const containerElement = document.querySelector('#' + key);\n",
              "        const charts = await google.colab.kernel.invokeFunction(\n",
              "            'suggestCharts', [key], {});\n",
              "      }\n",
              "    </script>\n",
              "\n",
              "      <script>\n",
              "\n",
              "function displayQuickchartButton(domScope) {\n",
              "  let quickchartButtonEl =\n",
              "    domScope.querySelector('#df-63e2814f-04fc-401e-ac3d-b97165663f27 button.colab-df-quickchart');\n",
              "  quickchartButtonEl.style.display =\n",
              "    google.colab.kernel.accessAllowed ? 'block' : 'none';\n",
              "}\n",
              "\n",
              "        displayQuickchartButton(document);\n",
              "      </script>\n",
              "      <style>\n",
              "    .colab-df-container {\n",
              "      display:flex;\n",
              "      flex-wrap:wrap;\n",
              "      gap: 12px;\n",
              "    }\n",
              "\n",
              "    .colab-df-convert {\n",
              "      background-color: #E8F0FE;\n",
              "      border: none;\n",
              "      border-radius: 50%;\n",
              "      cursor: pointer;\n",
              "      display: none;\n",
              "      fill: #1967D2;\n",
              "      height: 32px;\n",
              "      padding: 0 0 0 0;\n",
              "      width: 32px;\n",
              "    }\n",
              "\n",
              "    .colab-df-convert:hover {\n",
              "      background-color: #E2EBFA;\n",
              "      box-shadow: 0px 1px 2px rgba(60, 64, 67, 0.3), 0px 1px 3px 1px rgba(60, 64, 67, 0.15);\n",
              "      fill: #174EA6;\n",
              "    }\n",
              "\n",
              "    [theme=dark] .colab-df-convert {\n",
              "      background-color: #3B4455;\n",
              "      fill: #D2E3FC;\n",
              "    }\n",
              "\n",
              "    [theme=dark] .colab-df-convert:hover {\n",
              "      background-color: #434B5C;\n",
              "      box-shadow: 0px 1px 3px 1px rgba(0, 0, 0, 0.15);\n",
              "      filter: drop-shadow(0px 1px 2px rgba(0, 0, 0, 0.3));\n",
              "      fill: #FFFFFF;\n",
              "    }\n",
              "  </style>\n",
              "\n",
              "      <script>\n",
              "        const buttonEl =\n",
              "          document.querySelector('#df-51e12f28-a6b0-455f-8c67-e229c402418a button.colab-df-convert');\n",
              "        buttonEl.style.display =\n",
              "          google.colab.kernel.accessAllowed ? 'block' : 'none';\n",
              "\n",
              "        async function convertToInteractive(key) {\n",
              "          const element = document.querySelector('#df-51e12f28-a6b0-455f-8c67-e229c402418a');\n",
              "          const dataTable =\n",
              "            await google.colab.kernel.invokeFunction('convertToInteractive',\n",
              "                                                     [key], {});\n",
              "          if (!dataTable) return;\n",
              "\n",
              "          const docLinkHtml = 'Like what you see? Visit the ' +\n",
              "            '<a target=\"_blank\" href=https://colab.research.google.com/notebooks/data_table.ipynb>data table notebook</a>'\n",
              "            + ' to learn more about interactive tables.';\n",
              "          element.innerHTML = '';\n",
              "          dataTable['output_type'] = 'display_data';\n",
              "          await google.colab.output.renderOutput(dataTable, element);\n",
              "          const docLink = document.createElement('div');\n",
              "          docLink.innerHTML = docLinkHtml;\n",
              "          element.appendChild(docLink);\n",
              "        }\n",
              "      </script>\n",
              "    </div>\n",
              "  </div>\n"
            ]
          },
          "metadata": {},
          "execution_count": 149
        }
      ]
    },
    {
      "cell_type": "code",
      "source": [
        "df_roadside = df_merge.iloc[:,14:24]\n",
        "df_bckgrnd = df_merge.iloc[:,14:23]\n",
        "df_bckgrnd['Total Background'] = df_merge.iloc[:,24]\n",
        "df_roadside['Total roadside'] = df_merge.iloc[:,23]\n",
        "#df_bckgrnd"
      ],
      "metadata": {
        "id": "OS9PVJNnWH2j"
      },
      "execution_count": 150,
      "outputs": []
    },
    {
      "cell_type": "code",
      "source": [
        "#Correlation between features\n",
        "\n",
        "import seaborn as sns\n",
        "import matplotlib.pyplot as plt\n",
        "\n",
        "fig, ax = plt.subplots(figsize=(8,8))\n",
        "\n",
        "#feature_df = pd.DataFrame(np.column_stack((X,y)))\n",
        "feature_df = pd.merge(df_bckgrnd.iloc[:,0:9], df_bckgrnd.iloc[:,9], left_index=True, right_index=True)\n",
        "#display(feature_df)\n",
        "\n",
        "corr = feature_df.corr()\n",
        "#display(corr)\n",
        "\n",
        "sorted_mat = corr.unstack().sort_values() # Sort corr values\n",
        "print(\"Find the highest corr value after 1:\\n\",sorted_mat[:-13])\n",
        "sns.heatmap(corr, annot=True,ax=ax)"
      ],
      "metadata": {
        "colab": {
          "base_uri": "https://localhost:8080/",
          "height": 1000
        },
        "id": "g6FrZhQZWKMe",
        "outputId": "24d0fd76-dd59-496c-b74c-562a45645b83"
      },
      "execution_count": 151,
      "outputs": [
        {
          "output_type": "stream",
          "name": "stdout",
          "text": [
            "Find the highest corr value after 1:\n",
            " cloud_cover       sunshine           -0.723888\n",
            "sunshine          cloud_cover        -0.723888\n",
            "cloud_cover       global_radiation   -0.535424\n",
            "global_radiation  cloud_cover        -0.535424\n",
            "min_temp          Total Background   -0.518164\n",
            "                                        ...   \n",
            "global_radiation  sunshine            0.929564\n",
            "sunshine          global_radiation    0.929564\n",
            "max_temp          min_temp            0.969485\n",
            "min_temp          max_temp            0.969485\n",
            "mean_temp         min_temp            0.990601\n",
            "Length: 87, dtype: float64\n"
          ]
        },
        {
          "output_type": "execute_result",
          "data": {
            "text/plain": [
              "<Axes: >"
            ]
          },
          "metadata": {},
          "execution_count": 151
        },
        {
          "output_type": "display_data",
          "data": {
            "text/plain": [
              "<Figure size 800x800 with 2 Axes>"
            ],
            "image/png": "[encoded data removed]"
          },
          "metadata": {}
        }
      ]
    },
    {
      "cell_type": "code",
      "source": [
        "'''\n",
        "# drop unneccessary cols for bckgrnd ds\n",
        "drop_col = ['cloud_cover','sunshine','max_temp','mean_temp','precipitation', 'pressure','snow_depth']\n",
        "#drop_col = ['precipitation', 'cloud_cover']\n",
        "df_bckgrnd = df_bckgrnd.drop(columns=drop_col)\n",
        "'''"
      ],
      "metadata": {
        "id": "GFSr9O5LWMdp",
        "colab": {
          "base_uri": "https://localhost:8080/",
          "height": 53
        },
        "outputId": "ba2b6585-6275-4577-e99e-e83b4171bd77"
      },
      "execution_count": 152,
      "outputs": [
        {
          "output_type": "execute_result",
          "data": {
            "text/plain": [
              "\"\\n# drop unneccessary cols for bckgrnd ds\\ndrop_col = ['cloud_cover','sunshine','max_temp','mean_temp','precipitation', 'pressure','snow_depth']\\n#drop_col = ['precipitation', 'cloud_cover']\\ndf_bckgrnd = df_bckgrnd.drop(columns=drop_col)\\n\""
            ],
            "application/vnd.google.colaboratory.intrinsic+json": {
              "type": "string"
            }
          },
          "metadata": {},
          "execution_count": 152
        }
      ]
    },
    {
      "cell_type": "code",
      "source": [
        "df_bckgrnd= df_bckgrnd.round(1)\n",
        "df_bckgrnd_test = df_bckgrnd\n",
        "'''\n",
        "sc = StandardScaler()\n",
        "df_bckgrnd_norm_test = pd.DataFrame(sc.fit_transform(df_bckgrnd))\n",
        "df_bckgrnd_norm = pd.DataFrame(sc.fit_transform(df_bckgrnd))\n",
        "'''"
      ],
      "metadata": {
        "id": "GCr_s-w2JMID",
        "colab": {
          "base_uri": "https://localhost:8080/",
          "height": 35
        },
        "outputId": "7abe1804-3abe-4779-d714-8922e73b3b7c"
      },
      "execution_count": 153,
      "outputs": [
        {
          "output_type": "execute_result",
          "data": {
            "text/plain": [
              "'\\nsc = StandardScaler()\\ndf_bckgrnd_norm_test = pd.DataFrame(sc.fit_transform(df_bckgrnd))\\ndf_bckgrnd_norm = pd.DataFrame(sc.fit_transform(df_bckgrnd))\\n'"
            ],
            "application/vnd.google.colaboratory.intrinsic+json": {
              "type": "string"
            }
          },
          "metadata": {},
          "execution_count": 153
        }
      ]
    },
    {
      "cell_type": "code",
      "source": [
        "print(df_bckgrnd.iloc[:,0].min(),df_bckgrnd.iloc[:,0].max())\n",
        "print(df_bckgrnd.iloc[:,5].min(),df_bckgrnd.iloc[:,5].max())\n"
      ],
      "metadata": {
        "colab": {
          "base_uri": "https://localhost:8080/"
        },
        "id": "1MpMl5pC-C7x",
        "outputId": "b1ecdafe-6952-435a-cf33-298640ef7aa2"
      },
      "execution_count": 154,
      "outputs": [
        {
          "output_type": "stream",
          "name": "stdout",
          "text": [
            "2.1 6.6\n",
            "-1.5 16.4\n"
          ]
        }
      ]
    },
    {
      "cell_type": "code",
      "source": [
        "#df_bckgrnd_norm_intr = df_bckgrnd_norm\n",
        "from scipy.stats import rayleigh\n",
        "\n",
        "random_values = rayleigh.rvs(loc=-0.094, scale=1.43, size=500, random_state=None)\n",
        "\n",
        "for value in random_values:\n",
        "    df_bckgrnd = pd.concat([df_bckgrnd, pd.DataFrame({'precipitation': [value]})], ignore_index=True)\n",
        "df_bckgrnd"
      ],
      "metadata": {
        "colab": {
          "base_uri": "https://localhost:8080/",
          "height": 423
        },
        "id": "jBLvd5EV_pMP",
        "outputId": "fcff1f62-dd8f-4d25-c6df-88a79bc329a4"
      },
      "execution_count": 155,
      "outputs": [
        {
          "output_type": "execute_result",
          "data": {
            "text/plain": [
              "     cloud_cover  sunshine  global_radiation  max_temp  mean_temp  min_temp  \\\n",
              "0            5.4       1.9              30.4      10.4        7.4       4.7   \n",
              "1            3.7       4.5              67.1      11.0        6.5       2.0   \n",
              "2            5.6       2.8              91.2      10.6        6.8       3.7   \n",
              "3            4.7       4.7             151.8      13.7        9.1       5.2   \n",
              "4            4.7       5.2             182.2      19.8       14.6      10.5   \n",
              "..           ...       ...               ...       ...        ...       ...   \n",
              "634          NaN       NaN               NaN       NaN        NaN       NaN   \n",
              "635          NaN       NaN               NaN       NaN        NaN       NaN   \n",
              "636          NaN       NaN               NaN       NaN        NaN       NaN   \n",
              "637          NaN       NaN               NaN       NaN        NaN       NaN   \n",
              "638          NaN       NaN               NaN       NaN        NaN       NaN   \n",
              "\n",
              "     precipitation  pressure  snow_depth  Total Background  \n",
              "0         2.200000  101234.5         0.0             101.7  \n",
              "1         0.500000  102306.6         0.0             125.3  \n",
              "2         2.300000  100653.9         0.0             107.8  \n",
              "3         2.100000  101034.3         0.1             119.1  \n",
              "4         2.100000  101490.3         0.0             138.4  \n",
              "..             ...       ...         ...               ...  \n",
              "634       0.526684       NaN         NaN               NaN  \n",
              "635       1.806304       NaN         NaN               NaN  \n",
              "636       1.701089       NaN         NaN               NaN  \n",
              "637       0.559536       NaN         NaN               NaN  \n",
              "638       1.193535       NaN         NaN               NaN  \n",
              "\n",
              "[639 rows x 10 columns]"
            ],
            "text/html": [
              "\n",
              "\n",
              "  <div id=\"df-a6a7fb28-a4ed-44af-9c3e-064ad79de48e\">\n",
              "    <div class=\"colab-df-container\">\n",
              "      <div>\n",
              "<style scoped>\n",
              "    .dataframe tbody tr th:only-of-type {\n",
              "        vertical-align: middle;\n",
              "    }\n",
              "\n",
              "    .dataframe tbody tr th {\n",
              "        vertical-align: top;\n",
              "    }\n",
              "\n",
              "    .dataframe thead th {\n",
              "        text-align: right;\n",
              "    }\n",
              "</style>\n",
              "<table border=\"1\" class=\"dataframe\">\n",
              "  <thead>\n",
              "    <tr style=\"text-align: right;\">\n",
              "      <th></th>\n",
              "      <th>cloud_cover</th>\n",
              "      <th>sunshine</th>\n",
              "      <th>global_radiation</th>\n",
              "      <th>max_temp</th>\n",
              "      <th>mean_temp</th>\n",
              "      <th>min_temp</th>\n",
              "      <th>precipitation</th>\n",
              "      <th>pressure</th>\n",
              "      <th>snow_depth</th>\n",
              "      <th>Total Background</th>\n",
              "    </tr>\n",
              "  </thead>\n",
              "  <tbody>\n",
              "    <tr>\n",
              "      <th>0</th>\n",
              "      <td>5.4</td>\n",
              "      <td>1.9</td>\n",
              "      <td>30.4</td>\n",
              "      <td>10.4</td>\n",
              "      <td>7.4</td>\n",
              "      <td>4.7</td>\n",
              "      <td>2.200000</td>\n",
              "      <td>101234.5</td>\n",
              "      <td>0.0</td>\n",
              "      <td>101.7</td>\n",
              "    </tr>\n",
              "    <tr>\n",
              "      <th>1</th>\n",
              "      <td>3.7</td>\n",
              "      <td>4.5</td>\n",
              "      <td>67.1</td>\n",
              "      <td>11.0</td>\n",
              "      <td>6.5</td>\n",
              "      <td>2.0</td>\n",
              "      <td>0.500000</td>\n",
              "      <td>102306.6</td>\n",
              "      <td>0.0</td>\n",
              "      <td>125.3</td>\n",
              "    </tr>\n",
              "    <tr>\n",
              "      <th>2</th>\n",
              "      <td>5.6</td>\n",
              "      <td>2.8</td>\n",
              "      <td>91.2</td>\n",
              "      <td>10.6</td>\n",
              "      <td>6.8</td>\n",
              "      <td>3.7</td>\n",
              "      <td>2.300000</td>\n",
              "      <td>100653.9</td>\n",
              "      <td>0.0</td>\n",
              "      <td>107.8</td>\n",
              "    </tr>\n",
              "    <tr>\n",
              "      <th>3</th>\n",
              "      <td>4.7</td>\n",
              "      <td>4.7</td>\n",
              "      <td>151.8</td>\n",
              "      <td>13.7</td>\n",
              "      <td>9.1</td>\n",
              "      <td>5.2</td>\n",
              "      <td>2.100000</td>\n",
              "      <td>101034.3</td>\n",
              "      <td>0.1</td>\n",
              "      <td>119.1</td>\n",
              "    </tr>\n",
              "    <tr>\n",
              "      <th>4</th>\n",
              "      <td>4.7</td>\n",
              "      <td>5.2</td>\n",
              "      <td>182.2</td>\n",
              "      <td>19.8</td>\n",
              "      <td>14.6</td>\n",
              "      <td>10.5</td>\n",
              "      <td>2.100000</td>\n",
              "      <td>101490.3</td>\n",
              "      <td>0.0</td>\n",
              "      <td>138.4</td>\n",
              "    </tr>\n",
              "    <tr>\n",
              "      <th>...</th>\n",
              "      <td>...</td>\n",
              "      <td>...</td>\n",
              "      <td>...</td>\n",
              "      <td>...</td>\n",
              "      <td>...</td>\n",
              "      <td>...</td>\n",
              "      <td>...</td>\n",
              "      <td>...</td>\n",
              "      <td>...</td>\n",
              "      <td>...</td>\n",
              "    </tr>\n",
              "    <tr>\n",
              "      <th>634</th>\n",
              "      <td>NaN</td>\n",
              "      <td>NaN</td>\n",
              "      <td>NaN</td>\n",
              "      <td>NaN</td>\n",
              "      <td>NaN</td>\n",
              "      <td>NaN</td>\n",
              "      <td>0.526684</td>\n",
              "      <td>NaN</td>\n",
              "      <td>NaN</td>\n",
              "      <td>NaN</td>\n",
              "    </tr>\n",
              "    <tr>\n",
              "      <th>635</th>\n",
              "      <td>NaN</td>\n",
              "      <td>NaN</td>\n",
              "      <td>NaN</td>\n",
              "      <td>NaN</td>\n",
              "      <td>NaN</td>\n",
              "      <td>NaN</td>\n",
              "      <td>1.806304</td>\n",
              "      <td>NaN</td>\n",
              "      <td>NaN</td>\n",
              "      <td>NaN</td>\n",
              "    </tr>\n",
              "    <tr>\n",
              "      <th>636</th>\n",
              "      <td>NaN</td>\n",
              "      <td>NaN</td>\n",
              "      <td>NaN</td>\n",
              "      <td>NaN</td>\n",
              "      <td>NaN</td>\n",
              "      <td>NaN</td>\n",
              "      <td>1.701089</td>\n",
              "      <td>NaN</td>\n",
              "      <td>NaN</td>\n",
              "      <td>NaN</td>\n",
              "    </tr>\n",
              "    <tr>\n",
              "      <th>637</th>\n",
              "      <td>NaN</td>\n",
              "      <td>NaN</td>\n",
              "      <td>NaN</td>\n",
              "      <td>NaN</td>\n",
              "      <td>NaN</td>\n",
              "      <td>NaN</td>\n",
              "      <td>0.559536</td>\n",
              "      <td>NaN</td>\n",
              "      <td>NaN</td>\n",
              "      <td>NaN</td>\n",
              "    </tr>\n",
              "    <tr>\n",
              "      <th>638</th>\n",
              "      <td>NaN</td>\n",
              "      <td>NaN</td>\n",
              "      <td>NaN</td>\n",
              "      <td>NaN</td>\n",
              "      <td>NaN</td>\n",
              "      <td>NaN</td>\n",
              "      <td>1.193535</td>\n",
              "      <td>NaN</td>\n",
              "      <td>NaN</td>\n",
              "      <td>NaN</td>\n",
              "    </tr>\n",
              "  </tbody>\n",
              "</table>\n",
              "<p>639 rows × 10 columns</p>\n",
              "</div>\n",
              "      <button class=\"colab-df-convert\" onclick=\"convertToInteractive('df-a6a7fb28-a4ed-44af-9c3e-064ad79de48e')\"\n",
              "              title=\"Convert this dataframe to an interactive table.\"\n",
              "              style=\"display:none;\">\n",
              "\n",
              "  <svg xmlns=\"http://www.w3.org/2000/svg\" height=\"24px\"viewBox=\"0 0 24 24\"\n",
              "       width=\"24px\">\n",
              "    <path d=\"M0 0h24v24H0V0z\" fill=\"none\"/>\n",
              "    <path d=\"M18.56 5.44l.94 2.06.94-2.06 2.06-.94-2.06-.94-.94-2.06-.94 2.06-2.06.94zm-11 1L8.5 8.5l.94-2.06 2.06-.94-2.06-.94L8.5 2.5l-.94 2.06-2.06.94zm10 10l.94 2.06.94-2.06 2.06-.94-2.06-.94-.94-2.06-.94 2.06-2.06.94z\"/><path d=\"M17.41 7.96l-1.37-1.37c-.4-.4-.92-.59-1.43-.59-.52 0-1.04.2-1.43.59L10.3 9.45l-7.72 7.72c-.78.78-.78 2.05 0 2.83L4 21.41c.39.39.9.59 1.41.59.51 0 1.02-.2 1.41-.59l7.78-7.78 2.81-2.81c.8-.78.8-2.07 0-2.86zM5.41 20L4 18.59l7.72-7.72 1.47 1.35L5.41 20z\"/>\n",
              "  </svg>\n",
              "      </button>\n",
              "\n",
              "\n",
              "\n",
              "    <div id=\"df-0649e3c1-c11e-4b7b-b017-8ebac712dfad\">\n",
              "      <button class=\"colab-df-quickchart\" onclick=\"quickchart('df-0649e3c1-c11e-4b7b-b017-8ebac712dfad')\"\n",
              "              title=\"Suggest charts.\"\n",
              "              style=\"display:none;\">\n",
              "\n",
              "<svg xmlns=\"http://www.w3.org/2000/svg\" height=\"24px\"viewBox=\"0 0 24 24\"\n",
              "     width=\"24px\">\n",
              "    <g>\n",
              "        <path d=\"M19 3H5c-1.1 0-2 .9-2 2v14c0 1.1.9 2 2 2h14c1.1 0 2-.9 2-2V5c0-1.1-.9-2-2-2zM9 17H7v-7h2v7zm4 0h-2V7h2v10zm4 0h-2v-4h2v4z\"/>\n",
              "    </g>\n",
              "</svg>\n",
              "      </button>\n",
              "    </div>\n",
              "\n",
              "<style>\n",
              "  .colab-df-quickchart {\n",
              "    background-color: #E8F0FE;\n",
              "    border: none;\n",
              "    border-radius: 50%;\n",
              "    cursor: pointer;\n",
              "    display: none;\n",
              "    fill: #1967D2;\n",
              "    height: 32px;\n",
              "    padding: 0 0 0 0;\n",
              "    width: 32px;\n",
              "  }\n",
              "\n",
              "  .colab-df-quickchart:hover {\n",
              "    background-color: #E2EBFA;\n",
              "    box-shadow: 0px 1px 2px rgba(60, 64, 67, 0.3), 0px 1px 3px 1px rgba(60, 64, 67, 0.15);\n",
              "    fill: #174EA6;\n",
              "  }\n",
              "\n",
              "  [theme=dark] .colab-df-quickchart {\n",
              "    background-color: #3B4455;\n",
              "    fill: #D2E3FC;\n",
              "  }\n",
              "\n",
              "  [theme=dark] .colab-df-quickchart:hover {\n",
              "    background-color: #434B5C;\n",
              "    box-shadow: 0px 1px 3px 1px rgba(0, 0, 0, 0.15);\n",
              "    filter: drop-shadow(0px 1px 2px rgba(0, 0, 0, 0.3));\n",
              "    fill: #FFFFFF;\n",
              "  }\n",
              "</style>\n",
              "\n",
              "    <script>\n",
              "      async function quickchart(key) {\n",
              "        const containerElement = document.querySelector('#' + key);\n",
              "        const charts = await google.colab.kernel.invokeFunction(\n",
              "            'suggestCharts', [key], {});\n",
              "      }\n",
              "    </script>\n",
              "\n",
              "      <script>\n",
              "\n",
              "function displayQuickchartButton(domScope) {\n",
              "  let quickchartButtonEl =\n",
              "    domScope.querySelector('#df-0649e3c1-c11e-4b7b-b017-8ebac712dfad button.colab-df-quickchart');\n",
              "  quickchartButtonEl.style.display =\n",
              "    google.colab.kernel.accessAllowed ? 'block' : 'none';\n",
              "}\n",
              "\n",
              "        displayQuickchartButton(document);\n",
              "      </script>\n",
              "      <style>\n",
              "    .colab-df-container {\n",
              "      display:flex;\n",
              "      flex-wrap:wrap;\n",
              "      gap: 12px;\n",
              "    }\n",
              "\n",
              "    .colab-df-convert {\n",
              "      background-color: #E8F0FE;\n",
              "      border: none;\n",
              "      border-radius: 50%;\n",
              "      cursor: pointer;\n",
              "      display: none;\n",
              "      fill: #1967D2;\n",
              "      height: 32px;\n",
              "      padding: 0 0 0 0;\n",
              "      width: 32px;\n",
              "    }\n",
              "\n",
              "    .colab-df-convert:hover {\n",
              "      background-color: #E2EBFA;\n",
              "      box-shadow: 0px 1px 2px rgba(60, 64, 67, 0.3), 0px 1px 3px 1px rgba(60, 64, 67, 0.15);\n",
              "      fill: #174EA6;\n",
              "    }\n",
              "\n",
              "    [theme=dark] .colab-df-convert {\n",
              "      background-color: #3B4455;\n",
              "      fill: #D2E3FC;\n",
              "    }\n",
              "\n",
              "    [theme=dark] .colab-df-convert:hover {\n",
              "      background-color: #434B5C;\n",
              "      box-shadow: 0px 1px 3px 1px rgba(0, 0, 0, 0.15);\n",
              "      filter: drop-shadow(0px 1px 2px rgba(0, 0, 0, 0.3));\n",
              "      fill: #FFFFFF;\n",
              "    }\n",
              "  </style>\n",
              "\n",
              "      <script>\n",
              "        const buttonEl =\n",
              "          document.querySelector('#df-a6a7fb28-a4ed-44af-9c3e-064ad79de48e button.colab-df-convert');\n",
              "        buttonEl.style.display =\n",
              "          google.colab.kernel.accessAllowed ? 'block' : 'none';\n",
              "\n",
              "        async function convertToInteractive(key) {\n",
              "          const element = document.querySelector('#df-a6a7fb28-a4ed-44af-9c3e-064ad79de48e');\n",
              "          const dataTable =\n",
              "            await google.colab.kernel.invokeFunction('convertToInteractive',\n",
              "                                                     [key], {});\n",
              "          if (!dataTable) return;\n",
              "\n",
              "          const docLinkHtml = 'Like what you see? Visit the ' +\n",
              "            '<a target=\"_blank\" href=https://colab.research.google.com/notebooks/data_table.ipynb>data table notebook</a>'\n",
              "            + ' to learn more about interactive tables.';\n",
              "          element.innerHTML = '';\n",
              "          dataTable['output_type'] = 'display_data';\n",
              "          await google.colab.output.renderOutput(dataTable, element);\n",
              "          const docLink = document.createElement('div');\n",
              "          docLink.innerHTML = docLinkHtml;\n",
              "          element.appendChild(docLink);\n",
              "        }\n",
              "      </script>\n",
              "    </div>\n",
              "  </div>\n"
            ]
          },
          "metadata": {},
          "execution_count": 155
        }
      ]
    },
    {
      "cell_type": "code",
      "source": [
        "# Create new data - Interpolation\n",
        "df_bckgrnd = df_bckgrnd.interpolate()\n",
        "df_bckgrnd"
      ],
      "metadata": {
        "colab": {
          "base_uri": "https://localhost:8080/",
          "height": 423
        },
        "id": "G1auLhVJAWpl",
        "outputId": "81dac1af-e993-4947-9189-6afa2318ed94"
      },
      "execution_count": 156,
      "outputs": [
        {
          "output_type": "execute_result",
          "data": {
            "text/plain": [
              "     cloud_cover  sunshine  global_radiation  max_temp  mean_temp  min_temp  \\\n",
              "0            5.4       1.9              30.4      10.4        7.4       4.7   \n",
              "1            3.7       4.5              67.1      11.0        6.5       2.0   \n",
              "2            5.6       2.8              91.2      10.6        6.8       3.7   \n",
              "3            4.7       4.7             151.8      13.7        9.1       5.2   \n",
              "4            4.7       5.2             182.2      19.8       14.6      10.5   \n",
              "..           ...       ...               ...       ...        ...       ...   \n",
              "634          4.8       6.3             191.3      25.6       20.2      14.9   \n",
              "635          4.8       6.3             191.3      25.6       20.2      14.9   \n",
              "636          4.8       6.3             191.3      25.6       20.2      14.9   \n",
              "637          4.8       6.3             191.3      25.6       20.2      14.9   \n",
              "638          4.8       6.3             191.3      25.6       20.2      14.9   \n",
              "\n",
              "     precipitation  pressure  snow_depth  Total Background  \n",
              "0         2.200000  101234.5         0.0             101.7  \n",
              "1         0.500000  102306.6         0.0             125.3  \n",
              "2         2.300000  100653.9         0.0             107.8  \n",
              "3         2.100000  101034.3         0.1             119.1  \n",
              "4         2.100000  101490.3         0.0             138.4  \n",
              "..             ...       ...         ...               ...  \n",
              "634       0.526684  101598.4         0.0             114.8  \n",
              "635       1.806304  101598.4         0.0             114.8  \n",
              "636       1.701089  101598.4         0.0             114.8  \n",
              "637       0.559536  101598.4         0.0             114.8  \n",
              "638       1.193535  101598.4         0.0             114.8  \n",
              "\n",
              "[639 rows x 10 columns]"
            ],
            "text/html": [
              "\n",
              "\n",
              "  <div id=\"df-c6dbf522-be2b-49a3-bc4a-298cbcfeca7b\">\n",
              "    <div class=\"colab-df-container\">\n",
              "      <div>\n",
              "<style scoped>\n",
              "    .dataframe tbody tr th:only-of-type {\n",
              "        vertical-align: middle;\n",
              "    }\n",
              "\n",
              "    .dataframe tbody tr th {\n",
              "        vertical-align: top;\n",
              "    }\n",
              "\n",
              "    .dataframe thead th {\n",
              "        text-align: right;\n",
              "    }\n",
              "</style>\n",
              "<table border=\"1\" class=\"dataframe\">\n",
              "  <thead>\n",
              "    <tr style=\"text-align: right;\">\n",
              "      <th></th>\n",
              "      <th>cloud_cover</th>\n",
              "      <th>sunshine</th>\n",
              "      <th>global_radiation</th>\n",
              "      <th>max_temp</th>\n",
              "      <th>mean_temp</th>\n",
              "      <th>min_temp</th>\n",
              "      <th>precipitation</th>\n",
              "      <th>pressure</th>\n",
              "      <th>snow_depth</th>\n",
              "      <th>Total Background</th>\n",
              "    </tr>\n",
              "  </thead>\n",
              "  <tbody>\n",
              "    <tr>\n",
              "      <th>0</th>\n",
              "      <td>5.4</td>\n",
              "      <td>1.9</td>\n",
              "      <td>30.4</td>\n",
              "      <td>10.4</td>\n",
              "      <td>7.4</td>\n",
              "      <td>4.7</td>\n",
              "      <td>2.200000</td>\n",
              "      <td>101234.5</td>\n",
              "      <td>0.0</td>\n",
              "      <td>101.7</td>\n",
              "    </tr>\n",
              "    <tr>\n",
              "      <th>1</th>\n",
              "      <td>3.7</td>\n",
              "      <td>4.5</td>\n",
              "      <td>67.1</td>\n",
              "      <td>11.0</td>\n",
              "      <td>6.5</td>\n",
              "      <td>2.0</td>\n",
              "      <td>0.500000</td>\n",
              "      <td>102306.6</td>\n",
              "      <td>0.0</td>\n",
              "      <td>125.3</td>\n",
              "    </tr>\n",
              "    <tr>\n",
              "      <th>2</th>\n",
              "      <td>5.6</td>\n",
              "      <td>2.8</td>\n",
              "      <td>91.2</td>\n",
              "      <td>10.6</td>\n",
              "      <td>6.8</td>\n",
              "      <td>3.7</td>\n",
              "      <td>2.300000</td>\n",
              "      <td>100653.9</td>\n",
              "      <td>0.0</td>\n",
              "      <td>107.8</td>\n",
              "    </tr>\n",
              "    <tr>\n",
              "      <th>3</th>\n",
              "      <td>4.7</td>\n",
              "      <td>4.7</td>\n",
              "      <td>151.8</td>\n",
              "      <td>13.7</td>\n",
              "      <td>9.1</td>\n",
              "      <td>5.2</td>\n",
              "      <td>2.100000</td>\n",
              "      <td>101034.3</td>\n",
              "      <td>0.1</td>\n",
              "      <td>119.1</td>\n",
              "    </tr>\n",
              "    <tr>\n",
              "      <th>4</th>\n",
              "      <td>4.7</td>\n",
              "      <td>5.2</td>\n",
              "      <td>182.2</td>\n",
              "      <td>19.8</td>\n",
              "      <td>14.6</td>\n",
              "      <td>10.5</td>\n",
              "      <td>2.100000</td>\n",
              "      <td>101490.3</td>\n",
              "      <td>0.0</td>\n",
              "      <td>138.4</td>\n",
              "    </tr>\n",
              "    <tr>\n",
              "      <th>...</th>\n",
              "      <td>...</td>\n",
              "      <td>...</td>\n",
              "      <td>...</td>\n",
              "      <td>...</td>\n",
              "      <td>...</td>\n",
              "      <td>...</td>\n",
              "      <td>...</td>\n",
              "      <td>...</td>\n",
              "      <td>...</td>\n",
              "      <td>...</td>\n",
              "    </tr>\n",
              "    <tr>\n",
              "      <th>634</th>\n",
              "      <td>4.8</td>\n",
              "      <td>6.3</td>\n",
              "      <td>191.3</td>\n",
              "      <td>25.6</td>\n",
              "      <td>20.2</td>\n",
              "      <td>14.9</td>\n",
              "      <td>0.526684</td>\n",
              "      <td>101598.4</td>\n",
              "      <td>0.0</td>\n",
              "      <td>114.8</td>\n",
              "    </tr>\n",
              "    <tr>\n",
              "      <th>635</th>\n",
              "      <td>4.8</td>\n",
              "      <td>6.3</td>\n",
              "      <td>191.3</td>\n",
              "      <td>25.6</td>\n",
              "      <td>20.2</td>\n",
              "      <td>14.9</td>\n",
              "      <td>1.806304</td>\n",
              "      <td>101598.4</td>\n",
              "      <td>0.0</td>\n",
              "      <td>114.8</td>\n",
              "    </tr>\n",
              "    <tr>\n",
              "      <th>636</th>\n",
              "      <td>4.8</td>\n",
              "      <td>6.3</td>\n",
              "      <td>191.3</td>\n",
              "      <td>25.6</td>\n",
              "      <td>20.2</td>\n",
              "      <td>14.9</td>\n",
              "      <td>1.701089</td>\n",
              "      <td>101598.4</td>\n",
              "      <td>0.0</td>\n",
              "      <td>114.8</td>\n",
              "    </tr>\n",
              "    <tr>\n",
              "      <th>637</th>\n",
              "      <td>4.8</td>\n",
              "      <td>6.3</td>\n",
              "      <td>191.3</td>\n",
              "      <td>25.6</td>\n",
              "      <td>20.2</td>\n",
              "      <td>14.9</td>\n",
              "      <td>0.559536</td>\n",
              "      <td>101598.4</td>\n",
              "      <td>0.0</td>\n",
              "      <td>114.8</td>\n",
              "    </tr>\n",
              "    <tr>\n",
              "      <th>638</th>\n",
              "      <td>4.8</td>\n",
              "      <td>6.3</td>\n",
              "      <td>191.3</td>\n",
              "      <td>25.6</td>\n",
              "      <td>20.2</td>\n",
              "      <td>14.9</td>\n",
              "      <td>1.193535</td>\n",
              "      <td>101598.4</td>\n",
              "      <td>0.0</td>\n",
              "      <td>114.8</td>\n",
              "    </tr>\n",
              "  </tbody>\n",
              "</table>\n",
              "<p>639 rows × 10 columns</p>\n",
              "</div>\n",
              "      <button class=\"colab-df-convert\" onclick=\"convertToInteractive('df-c6dbf522-be2b-49a3-bc4a-298cbcfeca7b')\"\n",
              "              title=\"Convert this dataframe to an interactive table.\"\n",
              "              style=\"display:none;\">\n",
              "\n",
              "  <svg xmlns=\"http://www.w3.org/2000/svg\" height=\"24px\"viewBox=\"0 0 24 24\"\n",
              "       width=\"24px\">\n",
              "    <path d=\"M0 0h24v24H0V0z\" fill=\"none\"/>\n",
              "    <path d=\"M18.56 5.44l.94 2.06.94-2.06 2.06-.94-2.06-.94-.94-2.06-.94 2.06-2.06.94zm-11 1L8.5 8.5l.94-2.06 2.06-.94-2.06-.94L8.5 2.5l-.94 2.06-2.06.94zm10 10l.94 2.06.94-2.06 2.06-.94-2.06-.94-.94-2.06-.94 2.06-2.06.94z\"/><path d=\"M17.41 7.96l-1.37-1.37c-.4-.4-.92-.59-1.43-.59-.52 0-1.04.2-1.43.59L10.3 9.45l-7.72 7.72c-.78.78-.78 2.05 0 2.83L4 21.41c.39.39.9.59 1.41.59.51 0 1.02-.2 1.41-.59l7.78-7.78 2.81-2.81c.8-.78.8-2.07 0-2.86zM5.41 20L4 18.59l7.72-7.72 1.47 1.35L5.41 20z\"/>\n",
              "  </svg>\n",
              "      </button>\n",
              "\n",
              "\n",
              "\n",
              "    <div id=\"df-e9c7d4bf-b160-4010-9717-24c2d26b47b1\">\n",
              "      <button class=\"colab-df-quickchart\" onclick=\"quickchart('df-e9c7d4bf-b160-4010-9717-24c2d26b47b1')\"\n",
              "              title=\"Suggest charts.\"\n",
              "              style=\"display:none;\">\n",
              "\n",
              "<svg xmlns=\"http://www.w3.org/2000/svg\" height=\"24px\"viewBox=\"0 0 24 24\"\n",
              "     width=\"24px\">\n",
              "    <g>\n",
              "        <path d=\"M19 3H5c-1.1 0-2 .9-2 2v14c0 1.1.9 2 2 2h14c1.1 0 2-.9 2-2V5c0-1.1-.9-2-2-2zM9 17H7v-7h2v7zm4 0h-2V7h2v10zm4 0h-2v-4h2v4z\"/>\n",
              "    </g>\n",
              "</svg>\n",
              "      </button>\n",
              "    </div>\n",
              "\n",
              "<style>\n",
              "  .colab-df-quickchart {\n",
              "    background-color: #E8F0FE;\n",
              "    border: none;\n",
              "    border-radius: 50%;\n",
              "    cursor: pointer;\n",
              "    display: none;\n",
              "    fill: #1967D2;\n",
              "    height: 32px;\n",
              "    padding: 0 0 0 0;\n",
              "    width: 32px;\n",
              "  }\n",
              "\n",
              "  .colab-df-quickchart:hover {\n",
              "    background-color: #E2EBFA;\n",
              "    box-shadow: 0px 1px 2px rgba(60, 64, 67, 0.3), 0px 1px 3px 1px rgba(60, 64, 67, 0.15);\n",
              "    fill: #174EA6;\n",
              "  }\n",
              "\n",
              "  [theme=dark] .colab-df-quickchart {\n",
              "    background-color: #3B4455;\n",
              "    fill: #D2E3FC;\n",
              "  }\n",
              "\n",
              "  [theme=dark] .colab-df-quickchart:hover {\n",
              "    background-color: #434B5C;\n",
              "    box-shadow: 0px 1px 3px 1px rgba(0, 0, 0, 0.15);\n",
              "    filter: drop-shadow(0px 1px 2px rgba(0, 0, 0, 0.3));\n",
              "    fill: #FFFFFF;\n",
              "  }\n",
              "</style>\n",
              "\n",
              "    <script>\n",
              "      async function quickchart(key) {\n",
              "        const containerElement = document.querySelector('#' + key);\n",
              "        const charts = await google.colab.kernel.invokeFunction(\n",
              "            'suggestCharts', [key], {});\n",
              "      }\n",
              "    </script>\n",
              "\n",
              "      <script>\n",
              "\n",
              "function displayQuickchartButton(domScope) {\n",
              "  let quickchartButtonEl =\n",
              "    domScope.querySelector('#df-e9c7d4bf-b160-4010-9717-24c2d26b47b1 button.colab-df-quickchart');\n",
              "  quickchartButtonEl.style.display =\n",
              "    google.colab.kernel.accessAllowed ? 'block' : 'none';\n",
              "}\n",
              "\n",
              "        displayQuickchartButton(document);\n",
              "      </script>\n",
              "      <style>\n",
              "    .colab-df-container {\n",
              "      display:flex;\n",
              "      flex-wrap:wrap;\n",
              "      gap: 12px;\n",
              "    }\n",
              "\n",
              "    .colab-df-convert {\n",
              "      background-color: #E8F0FE;\n",
              "      border: none;\n",
              "      border-radius: 50%;\n",
              "      cursor: pointer;\n",
              "      display: none;\n",
              "      fill: #1967D2;\n",
              "      height: 32px;\n",
              "      padding: 0 0 0 0;\n",
              "      width: 32px;\n",
              "    }\n",
              "\n",
              "    .colab-df-convert:hover {\n",
              "      background-color: #E2EBFA;\n",
              "      box-shadow: 0px 1px 2px rgba(60, 64, 67, 0.3), 0px 1px 3px 1px rgba(60, 64, 67, 0.15);\n",
              "      fill: #174EA6;\n",
              "    }\n",
              "\n",
              "    [theme=dark] .colab-df-convert {\n",
              "      background-color: #3B4455;\n",
              "      fill: #D2E3FC;\n",
              "    }\n",
              "\n",
              "    [theme=dark] .colab-df-convert:hover {\n",
              "      background-color: #434B5C;\n",
              "      box-shadow: 0px 1px 3px 1px rgba(0, 0, 0, 0.15);\n",
              "      filter: drop-shadow(0px 1px 2px rgba(0, 0, 0, 0.3));\n",
              "      fill: #FFFFFF;\n",
              "    }\n",
              "  </style>\n",
              "\n",
              "      <script>\n",
              "        const buttonEl =\n",
              "          document.querySelector('#df-c6dbf522-be2b-49a3-bc4a-298cbcfeca7b button.colab-df-convert');\n",
              "        buttonEl.style.display =\n",
              "          google.colab.kernel.accessAllowed ? 'block' : 'none';\n",
              "\n",
              "        async function convertToInteractive(key) {\n",
              "          const element = document.querySelector('#df-c6dbf522-be2b-49a3-bc4a-298cbcfeca7b');\n",
              "          const dataTable =\n",
              "            await google.colab.kernel.invokeFunction('convertToInteractive',\n",
              "                                                     [key], {});\n",
              "          if (!dataTable) return;\n",
              "\n",
              "          const docLinkHtml = 'Like what you see? Visit the ' +\n",
              "            '<a target=\"_blank\" href=https://colab.research.google.com/notebooks/data_table.ipynb>data table notebook</a>'\n",
              "            + ' to learn more about interactive tables.';\n",
              "          element.innerHTML = '';\n",
              "          dataTable['output_type'] = 'display_data';\n",
              "          await google.colab.output.renderOutput(dataTable, element);\n",
              "          const docLink = document.createElement('div');\n",
              "          docLink.innerHTML = docLinkHtml;\n",
              "          element.appendChild(docLink);\n",
              "        }\n",
              "      </script>\n",
              "    </div>\n",
              "  </div>\n"
            ]
          },
          "metadata": {},
          "execution_count": 156
        }
      ]
    },
    {
      "cell_type": "code",
      "source": [
        "#pip install fitter"
      ],
      "metadata": {
        "id": "UuLIXzTISRan"
      },
      "execution_count": 157,
      "outputs": []
    },
    {
      "cell_type": "code",
      "source": [
        "'''\n",
        "from scipy.stats import rayleigh\n",
        "\n",
        "plt.hist(df_bckgrnd_test['precipitation'], bins=50,color=\"blue\", alpha=0.5)\n",
        "\n",
        "x = rayleigh.rvs(loc=-0.09368733918255762, scale=1.426002420282936, size=139, random_state=None)\n",
        "\n",
        "plt.hist(x, bins=50,color='Green')\n",
        "plt.show()\n",
        "'''"
      ],
      "metadata": {
        "colab": {
          "base_uri": "https://localhost:8080/",
          "height": 53
        },
        "id": "700swa0mkxlw",
        "outputId": "b9c42546-633e-43e2-f4ae-867275a8b88d"
      },
      "execution_count": 158,
      "outputs": [
        {
          "output_type": "execute_result",
          "data": {
            "text/plain": [
              "'\\nfrom scipy.stats import rayleigh\\n\\nplt.hist(df_bckgrnd_test[\\'precipitation\\'], bins=50,color=\"blue\", alpha=0.5)\\n\\nx = rayleigh.rvs(loc=-0.09368733918255762, scale=1.426002420282936, size=139, random_state=None)\\n\\nplt.hist(x, bins=50,color=\\'Green\\')\\nplt.show()\\n'"
            ],
            "application/vnd.google.colaboratory.intrinsic+json": {
              "type": "string"
            }
          },
          "metadata": {},
          "execution_count": 158
        }
      ]
    },
    {
      "cell_type": "code",
      "source": [
        "'''\n",
        "from fitter import Fitter\n",
        "\n",
        "from scipy.stats import gamma\n",
        "\n",
        "# Convert data to a list or numpy array\n",
        "data_list = df_bckgrnd_test.iloc[:,6].tolist()\n",
        "\n",
        "# Fit distributions and compare using fitter library\n",
        "fitter = Fitter(data_list)\n",
        "fitter.fit()\n",
        "\n",
        "# Get the best-fitting distribution\n",
        "best_dist = fitter.get_best()\n",
        "#best_params = fitter.fitted_param[best_dist]\n",
        "\n",
        "print(f\"Best fit distribution: {best_dist}\")\n",
        "#print(f\"Parameters: {best_params}\")\n",
        "fitter.summary()\n",
        "'''"
      ],
      "metadata": {
        "colab": {
          "base_uri": "https://localhost:8080/",
          "height": 70
        },
        "id": "DOVWf5BdSN8R",
        "outputId": "52015586-9a8c-4053-bee1-1039b14f3fef"
      },
      "execution_count": 159,
      "outputs": [
        {
          "output_type": "execute_result",
          "data": {
            "text/plain": [
              "'\\nfrom fitter import Fitter\\n\\nfrom scipy.stats import gamma\\n\\n# Convert data to a list or numpy array\\ndata_list = df_bckgrnd_test.iloc[:,6].tolist()\\n\\n# Fit distributions and compare using fitter library\\nfitter = Fitter(data_list)\\nfitter.fit()\\n\\n# Get the best-fitting distribution\\nbest_dist = fitter.get_best()\\n#best_params = fitter.fitted_param[best_dist]\\n\\nprint(f\"Best fit distribution: {best_dist}\")\\n#print(f\"Parameters: {best_params}\")\\nfitter.summary()\\n'"
            ],
            "application/vnd.google.colaboratory.intrinsic+json": {
              "type": "string"
            }
          },
          "metadata": {},
          "execution_count": 159
        }
      ]
    },
    {
      "cell_type": "code",
      "source": [
        "# Normalize\n",
        "sc = StandardScaler()\n",
        "df_bckgrnd_norm_test = pd.DataFrame(sc.fit_transform(df_bckgrnd))\n",
        "df_bckgrnd_norm = pd.DataFrame(sc.fit_transform(df_bckgrnd))"
      ],
      "metadata": {
        "id": "hV2t33n9mLHo"
      },
      "execution_count": 160,
      "outputs": []
    },
    {
      "cell_type": "code",
      "source": [
        "# Split into training and testing\n",
        "bckx_train, bckx_test, bcky_train, bcky_test = train_test_split(df_bckgrnd_norm.iloc[:,0:9],df_bckgrnd_norm.iloc[:,-1],test_size=0.3, random_state=10)\n",
        "print(bckx_train.shape, bcky_train.shape, bckx_test.shape, bcky_test.shape)"
      ],
      "metadata": {
        "colab": {
          "base_uri": "https://localhost:8080/"
        },
        "id": "9EDELTm25Dzr",
        "outputId": "0f6dc423-66ad-422b-bedc-67fcc624a1fe"
      },
      "execution_count": 161,
      "outputs": [
        {
          "output_type": "stream",
          "name": "stdout",
          "text": [
            "(447, 9) (447,) (192, 9) (192,)\n"
          ]
        }
      ]
    },
    {
      "cell_type": "code",
      "source": [
        "'''\n",
        "bckx_train =pd.DataFrame(np.array(bckx_train).reshape(-1, ))\n",
        "bckx_test =pd.DataFrame(np.array(bckx_test).reshape(-1, ))\n",
        "bckx_train.shape\n",
        "'''"
      ],
      "metadata": {
        "colab": {
          "base_uri": "https://localhost:8080/",
          "height": 35
        },
        "id": "re8hRAUdCsjN",
        "outputId": "639e91a2-a84f-4d26-e4af-3a6906771bd8"
      },
      "execution_count": 162,
      "outputs": [
        {
          "output_type": "execute_result",
          "data": {
            "text/plain": [
              "'\\nbckx_train =pd.DataFrame(np.array(bckx_train).reshape(-1, ))\\nbckx_test =pd.DataFrame(np.array(bckx_test).reshape(-1, ))\\nbckx_train.shape\\n'"
            ],
            "application/vnd.google.colaboratory.intrinsic+json": {
              "type": "string"
            }
          },
          "metadata": {},
          "execution_count": 162
        }
      ]
    },
    {
      "cell_type": "code",
      "source": [
        "# Check distribution and relations\n",
        "fig, ax = plt.subplots(1,2,figsize=(15,5))\n",
        "ax[0].scatter(bckx_train.iloc[:,5],bcky_train,color=\"green\")\n",
        "#ax[0].scatter(df_bckgrnd_norm_test.iloc[0:448,5],df_bckgrnd_norm_test.iloc[0:448,9],alpha=0.5,color =\"green\")\n",
        "\n",
        "ax[1].scatter(bckx_test.iloc[:,5],bcky_test)\n",
        "print(bckx_train.iloc[:,6].shape,bcky_train.shape)\n",
        "print(bckx_test.iloc[:,6].shape,bcky_test.shape)\n",
        "\n",
        "plt.show()"
      ],
      "metadata": {
        "colab": {
          "base_uri": "https://localhost:8080/",
          "height": 480
        },
        "id": "v3NHjQU7_K7w",
        "outputId": "b6cdf01c-a14b-440d-dee3-8788abfeeaaf"
      },
      "execution_count": 163,
      "outputs": [
        {
          "output_type": "stream",
          "name": "stdout",
          "text": [
            "(447,) (447,)\n",
            "(192,) (192,)\n"
          ]
        },
        {
          "output_type": "display_data",
          "data": {
            "text/plain": [
              "<Figure size 1500x500 with 2 Axes>"
            ],
            "image/png": "[encoded data removed]"
          },
          "metadata": {}
        }
      ]
    },
    {
      "cell_type": "code",
      "source": [
        "\n",
        "# Regression model on training data to find outliers\n",
        "from sklearn.linear_model import LinearRegression\n",
        "from sklearn.ensemble import RandomForestRegressor\n",
        "from sklearn.tree import DecisionTreeRegressor\n",
        "from sklearn.svm import SVR\n",
        "from sklearn.model_selection import cross_val_score\n",
        "from sklearn.metrics import r2_score, mean_absolute_error, mean_squared_error\n",
        "from sklearn.linear_model import Lasso\n",
        "from sklearn.linear_model import ElasticNet\n",
        "\n",
        "\n",
        "from sklearn.model_selection import GridSearchCV\n",
        "from sklearn.pipeline import Pipeline\n",
        "from sklearn.preprocessing import StandardScaler, PolynomialFeatures\n",
        "from sklearn.metrics import mean_squared_error\n",
        "\n",
        "\n",
        "lr = LinearRegression()\n",
        "dt = DecisionTreeRegressor()\n",
        "svr = SVR()\n",
        "rfr = RandomForestRegressor()\n",
        "poly = PolynomialFeatures(degree=5)\n",
        "lss = Lasso()\n",
        "en = ElasticNet()\n",
        "\n",
        "param_en = {'alpha': [0.2, 0.1, 0.3], 'l1_ratio': [0.2, 0.5, 0.8],'fit_intercept':[True,False]}\n",
        "\n",
        "param_lss = {'alpha': [0.2, 0.1, 0.3, 0.4]}\n",
        "param_rfr = {'n_estimators': [100,120], 'random_state':[12]}\n",
        "param_lr = {'fit_intercept':[True]}\n",
        "param_dt = {'random_state':[0,4]}\n",
        "param_svr = {\n",
        "    'kernel' :['linear', 'poly', 'sigmoid'],\n",
        "    'C': [0.1, 1, 10],\n",
        "    'gamma': [0.1, 1, 'scale'],\n",
        "    'epsilon': [0.1, 0.2, 0.3]\n",
        "}\n",
        "\n",
        "pipeline = Pipeline([\n",
        "    ('poly', PolynomialFeatures()),\n",
        "    ('scaler', StandardScaler()),\n",
        "    ('en', ElasticNet())\n",
        "])\n",
        "param_m = {\n",
        "    'poly__degree': [1, 2, 3],       # Polynomial degree\n",
        "    'en__alpha': [0.2, 0.1, 0.3]   # ElasticNet regularization strength\n",
        "}\n",
        "\n",
        "model = GridSearchCV(estimator=pipeline, param_grid=param_m, cv=6)\n",
        "model.fit(bckx_train,bcky_train)\n",
        "best_alpha = model.best_params_\n",
        "print(\"Best Alpha:\", best_alpha)\n",
        "best_elastic_net = model.best_estimator_\n",
        "\n",
        "# Make predictions\n",
        "predictions = best_elastic_net.predict(bckx_test)\n",
        "\n",
        "# Evaluate the model\n",
        "mse = mean_squared_error(bcky_test, predictions)\n",
        "print(\"Mean Squared Error:\", mse)\n",
        "\n",
        "#model = make_pipeline(StandardScaler(),GridSearchCV(en,param_grid=param_en, cv=6))\n",
        "\n",
        "#model.fit(bckx_train, bcky_train)\n",
        "y_pred = model.predict(bckx_train)\n",
        "print(\"Test Score: \",model.score(bckx_test,bcky_test))\n",
        "print(\"Train Score: \",model.score(bckx_train,bcky_train))\n",
        "\n",
        "\n"
      ],
      "metadata": {
        "colab": {
          "base_uri": "https://localhost:8080/"
        },
        "id": "d58Ts-WcsK9f",
        "outputId": "5cc0fff6-911f-42de-9df3-d05872aacc06"
      },
      "execution_count": 164,
      "outputs": [
        {
          "output_type": "stream",
          "name": "stdout",
          "text": [
            "Best Alpha: {'en__alpha': 0.1, 'poly__degree': 1}\n",
            "Mean Squared Error: 0.4192816603745027\n",
            "Test Score:  0.6244074705226443\n",
            "Train Score:  0.6129410076225597\n"
          ]
        }
      ]
    },
    {
      "cell_type": "code",
      "source": [
        "'''\n",
        "plt.hist(res, bins=50)\n",
        "plt.xlabel('Residuals')\n",
        "plt.ylabel('Frequency')\n",
        "plt.title('Histogram of Residuals')\n",
        "plt.show()\n",
        "'''"
      ],
      "metadata": {
        "colab": {
          "base_uri": "https://localhost:8080/",
          "height": 35
        },
        "id": "K6weKwIp5Qac",
        "outputId": "d37585f6-aad1-4172-aa4d-e6c23b608c2f"
      },
      "execution_count": 165,
      "outputs": [
        {
          "output_type": "execute_result",
          "data": {
            "text/plain": [
              "\"\\nplt.hist(res, bins=50)\\nplt.xlabel('Residuals')\\nplt.ylabel('Frequency')\\nplt.title('Histogram of Residuals')\\nplt.show()\\n\""
            ],
            "application/vnd.google.colaboratory.intrinsic+json": {
              "type": "string"
            }
          },
          "metadata": {},
          "execution_count": 165
        }
      ]
    },
    {
      "cell_type": "code",
      "source": [
        "from scipy import stats\n",
        "res = bcky_train - y_pred\n",
        "\n",
        "z_scores = stats.zscore(res)\n",
        "\n",
        "threshold = 2\n",
        "\n",
        "outlier_mask = np.abs(z_scores) > threshold\n",
        "\n",
        "\n",
        "bck_train = pd.merge(bckx_train, bcky_train, left_index=True, right_index=True)\n",
        "outlier_residuals = bcky_train[outlier_mask]\n",
        "outlier_indices = bck_train.index[outlier_mask]\n",
        "#outlier_indices = np.where(outlier_mask)[0]\n",
        "print(outlier_residuals.shape)\n",
        "#list(outlier_indices)\n"
      ],
      "metadata": {
        "colab": {
          "base_uri": "https://localhost:8080/"
        },
        "id": "w3sb-l8g5TS0",
        "outputId": "2fc9f26f-a6f8-4735-9f42-11b9359eb7a9"
      },
      "execution_count": 166,
      "outputs": [
        {
          "output_type": "stream",
          "name": "stdout",
          "text": [
            "(31,)\n"
          ]
        }
      ]
    },
    {
      "cell_type": "code",
      "source": [
        "\n",
        "bck_train = bck_train.drop(list(outlier_indices))\n",
        "bck_train\n",
        "#bx, by = bck_train.iloc[:,0:2], bck_train.iloc[:,2]\n",
        "bx, by = bck_train.iloc[:,0:9], bck_train.iloc[:,-1]"
      ],
      "metadata": {
        "id": "TxOB5nNa5grf"
      },
      "execution_count": 167,
      "outputs": []
    },
    {
      "cell_type": "code",
      "source": [
        "bx.shape, by.shape"
      ],
      "metadata": {
        "colab": {
          "base_uri": "https://localhost:8080/"
        },
        "id": "y8tSxONVriCt",
        "outputId": "bb22c7cf-2987-462e-caee-71960fb6c140"
      },
      "execution_count": 168,
      "outputs": [
        {
          "output_type": "execute_result",
          "data": {
            "text/plain": [
              "((416, 9), (416,))"
            ]
          },
          "metadata": {},
          "execution_count": 168
        }
      ]
    },
    {
      "cell_type": "code",
      "source": [
        "bckx_test.shape,bcky_test.shape"
      ],
      "metadata": {
        "colab": {
          "base_uri": "https://localhost:8080/"
        },
        "id": "ltw-iZ87q6eq",
        "outputId": "6a4f010a-2c23-49bb-f947-70ddc331feeb"
      },
      "execution_count": 169,
      "outputs": [
        {
          "output_type": "execute_result",
          "data": {
            "text/plain": [
              "((192, 9), (192,))"
            ]
          },
          "metadata": {},
          "execution_count": 169
        }
      ]
    },
    {
      "cell_type": "code",
      "source": [
        "import matplotlib.pyplot as plt\n",
        "fig, ax = plt.subplots(1,2,figsize=(15,5))\n",
        "ax[0].scatter(bx.iloc[:,5],by)\n",
        "ax[1].scatter(bckx_test.iloc[:,5],bcky_test)\n",
        "#ax[2].hist()\n",
        "print(bckx_test.iloc[:,5].shape)\n",
        "\n",
        "plt.show()"
      ],
      "metadata": {
        "colab": {
          "base_uri": "https://localhost:8080/",
          "height": 462
        },
        "id": "Ce1UDFy2kjXQ",
        "outputId": "4e6bc691-09cc-4cba-dd2a-0515a5b47d7e"
      },
      "execution_count": 170,
      "outputs": [
        {
          "output_type": "stream",
          "name": "stdout",
          "text": [
            "(192,)\n"
          ]
        },
        {
          "output_type": "display_data",
          "data": {
            "text/plain": [
              "<Figure size 1500x500 with 2 Axes>"
            ],
            "image/png": "[encoded data removed]"
          },
          "metadata": {}
        }
      ]
    },
    {
      "cell_type": "code",
      "source": [
        "\n",
        "model.fit(bx, by)\n",
        "y_pred = model.predict(bckx_test)\n",
        "mse2 = mean_squared_error(bcky_test, y_pred)\n",
        "print(\"Mean Squared Error:\", mse2)\n",
        "print(\"Test Score: \",model.score(bckx_test,bcky_test))\n",
        "print(\"Train Score: \",model.score(bx,by))\n",
        "\n"
      ],
      "metadata": {
        "colab": {
          "base_uri": "https://localhost:8080/"
        },
        "id": "O4kJpI-5kXlZ",
        "outputId": "8fd93799-75cc-4322-9849-2ac98d066e49"
      },
      "execution_count": 173,
      "outputs": [
        {
          "output_type": "stream",
          "name": "stdout",
          "text": [
            "Mean Squared Error: 0.43024550827778024\n",
            "Test Score:  0.6145860550972264\n",
            "Train Score:  0.8675696541977231\n"
          ]
        }
      ]
    }
  ]
}